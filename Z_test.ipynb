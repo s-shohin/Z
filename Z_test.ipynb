{
 "cells": [
  {
   "cell_type": "code",
   "execution_count": 6,
   "metadata": {},
   "outputs": [],
   "source": [
    "from selenium import webdriver\n",
    "from time import sleep\n",
    "from selenium.webdriver.common.by import By\n",
    "from selenium.webdriver.support.select import Select\n",
    "from selenium.webdriver.common.keys import Keys\n",
    "\n",
    "import pandas as pd\n",
    "import openpyxl as xl\n",
    "import random"
   ]
  },
  {
   "cell_type": "code",
   "execution_count": 7,
   "metadata": {},
   "outputs": [
    {
     "name": "stderr",
     "output_type": "stream",
     "text": [
      "/Users/s87gawa/miniforge3/envs/py38/lib/python3.8/site-packages/openpyxl/worksheet/_reader.py:312: UserWarning: Data Validation extension is not supported and will be removed\n",
      "  warn(msg)\n"
     ]
    }
   ],
   "source": [
    "FILE_NAME='Z条件_データ1_定点'\n",
    "SHEET_NAME='Z打鍵'\n",
    "USER_ID='nihonsaburo1234@gmail.com'\n",
    "USER_PW='s@fic1234'\n",
    "\n",
    "\n",
    "#データ読み込み\n",
    "df=pd.read_excel(FILE_NAME+'.xlsm',sheet_name=SHEET_NAME)\n",
    "data=df.loc[10,:].to_dict()"
   ]
  },
  {
   "cell_type": "code",
   "execution_count": 8,
   "metadata": {},
   "outputs": [],
   "source": [
    "options = webdriver.ChromeOptions()\n",
    "#options.add_argument('--headless') #ブラウザ表示なし\n",
    "options.add_argument('--incognito') #シークレットモード \n",
    "browser = webdriver.Chrome(options=options)\n",
    "\n",
    "#見積もりページを開く\n",
    "url= \"https://www.zurich.co.jp/auto/common/ncdAssessmentPage.html\"\n",
    "browser.get(url)\n"
   ]
  },
  {
   "cell_type": "code",
   "execution_count": 9,
   "metadata": {},
   "outputs": [],
   "source": [
    "#data['NF2'] = '20 等級'\n",
    "#data['NF2'] = '6S'\n"
   ]
  },
  {
   "cell_type": "code",
   "execution_count": 10,
   "metadata": {},
   "outputs": [],
   "source": [
    "if 'S' in data['NF2']:\n",
    "    new = 'New'\n",
    "    browser.find_element(By.CSS_SELECTOR, '#page1_question1_answer2 > div > span.txt > p.btnpara').click()#新規\n",
    "    sleep(1)\n",
    "    browser.find_element(By.CSS_SELECTOR, '#btnQ1_HasNoBusiness > a > div > dl > dt').click()#過去契約がない\n",
    "\n",
    "    #セカンドカー\n",
    "    if data['NF2']=='7S':\n",
    "        browser.find_element(By.CSS_SELECTOR, '#btnQ2_HasAnotherCar > a > div > dl > dd').click()\n",
    "        browser.find_element(By.CSS_SELECTOR, '#btnQ3_ApplySecondCar > a > div > dl > dt').click()\n",
    "        browser.find_element(By.CSS_SELECTOR, '#part_newSecondCarBtnBlock > p > a').click()\n",
    "\n",
    "    else:\n",
    "        browser.find_element(By.CSS_SELECTOR, '#btnQ2_NoAnotherCar > a > div > dl > dt').click()\n",
    "        browser.find_element(By.CSS_SELECTOR, '#part_newBusinessBtnBlock > p > a > span').click()\n",
    "else:\n",
    "    new = ''\n",
    "    browser.find_element(By.CSS_SELECTOR, '#page1_question1_answer1 > div > span.txt > p.btntxt > img').click()\n",
    "\n",
    "if 'S' in data['NF2']:\n",
    "    pass\n",
    "else:\n",
    "    #一年契約\n",
    "    sleep(3)\n",
    "    browser.find_element(By.CSS_SELECTOR, '#riskFactorForm\\:selectYearType > tbody > tr > td.firstChild > label').click()   \n",
    "    sleep(1)\n",
    "\n",
    "#始期日\n",
    "Select(browser.find_element(By.CSS_SELECTOR, '#riskFactor'+ new + 'Form\\:commencementDateEraYearField')).select_by_visible_text(data['西暦2']) \n",
    "sleep(1)\n",
    "Select(browser.find_element(By.CSS_SELECTOR, '#riskFactor'+ new + 'Form\\:commencementDateMonthField')).select_by_visible_text(str(data['月2']))\n",
    "sleep(1)\n",
    "Select(browser.find_element(By.CSS_SELECTOR, '#riskFactor'+ new + 'Form\\:commencementDateDayField')).select_by_visible_text(str(data['日2'])) \n",
    "sleep(1)\n",
    "\n",
    "if 'S' in data['NF2']:\n",
    "    pass\n",
    "else:\n",
    "    #加入中の保険会社\n",
    "    Select(browser.find_element(By.CSS_SELECTOR,'#riskFactorForm\\:insuranceCompanyCodeField')).select_by_index(1)\n",
    "    sleep(3)\n",
    "    #現在の等級\n",
    "    Select(browser.find_element(By.CSS_SELECTOR,'#riskFactorForm\\:currentNoClaimDiscountField')).select_by_visible_text(data['NF2'])\n",
    "    sleep(3)\n",
    "    #事故件数\n",
    "    browser.find_element(By.CSS_SELECTOR, '#riskFactorForm\\:noPreviousClaimsField > tbody > tr > td.firstChild > label').click()\n",
    "    sleep(1)\n",
    "\n",
    "    #事故有係数\n",
    "    browser.find_element(By.CSS_SELECTOR, '#riskFactorForm\\:prevYrAccidentPeriodCountField > tbody > tr > td.firstChild > label').click()\n",
    "    sleep(1)\n",
    "\n",
    "    #車両保険あり\n",
    "    browser.find_element(By.CSS_SELECTOR, '#riskFactorForm\\:ownDamageCoverageField > tbody > tr > td.firstChild > label').click()\n",
    "    #sleep(1)                                         \n",
    "    #運限\n",
    "    if data['運限修正'] == '本配':\n",
    "        browser.find_element(By.CSS_SELECTOR, '#riskFactorForm\\:driverLimitationDiscountField > tbody > tr > td.nthChild2n.nthChild2 > label').click()\n",
    "    elif data['運限修正'] == '家族':\n",
    "        browser.find_element(By.CSS_SELECTOR, '#riskFactorForm\\:driverLimitationDiscountField > tbody > tr > td.firstChild > label').click()\n",
    "    else:\n",
    "        browser.find_element(By.CSS_SELECTOR, '#riskFactorForm\\:driverLimitationDiscountField > tbody > tr > td:nth-child(4) > label').click()\n",
    "    sleep(1)\n",
    "\n",
    "    #年齢\n",
    "    Select(browser.find_element(By.CSS_SELECTOR,'#riskFactorForm\\:ageLimitedDiscountField')).select_by_visible_text(data['年齢限定修正2'])\n",
    "    #sleep(1)\n",
    "\n",
    "#初度登録\n",
    "Select(browser.find_element(By.CSS_SELECTOR, '#riskFactor'+ new + 'Form\\:carRegistrationDateEraYearField')).select_by_visible_text(data['初度年2']) \n",
    "sleep(1)\n",
    "Select(browser.find_element(By.CSS_SELECTOR, '#riskFactor'+ new + 'Form\\:carRegistrationDateMonthField')).select_by_visible_text(str(data['初度月2']))\n",
    "sleep(1)\n",
    "\n",
    "#型式\n",
    "browser.find_element(By.CSS_SELECTOR, '#riskFactor'+ new + 'Form\\:carTypeField_input').send_keys(data['型式2'])\n",
    "browser.find_element(By.CSS_SELECTOR, '#riskFactor'+ new + 'Form\\:autoCompleteButton').click()\n",
    "sleep(2)\n",
    "Select(browser.find_element(By.CSS_SELECTOR, '#riskFactor'+ new + 'Form\\:dummyCarTypeListField0')).select_by_index(1)\n",
    "sleep(1)\n",
    "\n",
    "#記名被保険者は契約者の配偶者男性\n",
    "browser.find_element(By.CSS_SELECTOR, '#riskFactor'+ new + 'Form\\:mainDriverRelationField > tbody > tr > td.nthChild3.nthChild3n > label').click()\n",
    "\n",
    "#生年月日\n",
    "Select(browser.find_element(By.CSS_SELECTOR, '#riskFactor'+ new + 'Form\\:insuredDOBEraYearField')).select_by_visible_text(data['生年2']) \n",
    "sleep(1)\n",
    "Select(browser.find_element(By.CSS_SELECTOR, '#riskFactor'+ new + 'Form\\:insuredDOBMonthField')).select_by_visible_text(str(data['生まれ月2']))\n",
    "sleep(1)\n",
    "Select(browser.find_element(By.CSS_SELECTOR, '#riskFactor'+ new + 'Form\\:insuredDOBDayField')).select_by_visible_text(str(data['生まれ日2'])) \n",
    "sleep(1)\n",
    "Select(browser.find_element(By.CSS_SELECTOR, '#riskFactor'+ new + 'Form\\:mainDriverResidencialAreaField')).select_by_visible_text(str(data['地域2'])) \n",
    "sleep(1)\n",
    "\n",
    "#免許の色\n",
    "if data['免許2'] == 'ゴールド':\n",
    "    browser.find_element(By.CSS_SELECTOR, '#riskFactor'+ new + 'Form\\:driversLicenseColorAutoField > tbody > tr > td.firstChild > label').click()\n",
    "else:\n",
    "    browser.find_element(By.CSS_SELECTOR, '#riskFactor'+ new + 'Form\\:driversLicenseColorAutoField > tbody > tr > td.nthChild2 > label').click()\n",
    "\n",
    "sleep(1)\n",
    "#目的\n",
    "if data['使用目的2'] == '日常':\n",
    "    browser.find_element(By.CSS_SELECTOR, '#riskFactor'+ new + 'Form\\:vehicleUsageField > tbody > tr > td.firstChild > label').click()\n",
    "else:\n",
    "    browser.find_element(By.CSS_SELECTOR, '#riskFactor'+ new + 'Form\\:vehicleUsageField > tbody > tr > td.nthChild3.nthChild3n > label').click()#通勤25km\n",
    "sleep(1)\n",
    "\n",
    "#目的\n",
    "if data['走行距離2'] == 1:\n",
    "    browser.find_element(By.CSS_SELECTOR, '#riskFactor'+ new + 'Form\\:anualMilleageField > tbody > tr > td.firstChild > label').click()\n",
    "elif data['走行距離2'] == 2:\n",
    "    browser.find_element(By.CSS_SELECTOR, '#riskFactor'+ new + 'Form\\:anualMilleageField > tbody > tr > td.nthChild2 > label').click()\n",
    "elif data['走行距離2'] == 3:\n",
    "    browser.find_element(By.CSS_SELECTOR, '#riskFactor'+ new + 'Form\\:anualMilleageField > tbody > tr > td.nthChild3 > label').click()\n",
    "elif data['走行距離2'] == 4:\n",
    "    browser.find_element(By.CSS_SELECTOR, '#riskFactor'+ new + 'Form\\:anualMilleageField > tbody > tr > td:nth-child(4) > label').click()\n",
    "elif data['走行距離2'] == 5:\n",
    "    browser.find_element(By.CSS_SELECTOR, '#riskFactor'+ new + 'Form\\:anualMilleageField > tbody > tr > td:nth-child(5) > label').click()\n",
    "sleep(1)\n",
    "\n",
    "if 'S' in data['NF2']:\n",
    "    #運限\n",
    "    if data['運限修正'] == '本配':\n",
    "        browser.find_element(By.CSS_SELECTOR, '#riskFactorNewForm\\:driverLimitationDiscountField > tbody > tr > td.firstChild > label').click()\n",
    "    elif data['運限修正'] == '家族':\n",
    "        browser.find_element(By.CSS_SELECTOR, '#riskFactorNewForm\\:driverLimitationDiscountField > tbody > tr > td.nthChild2n.nthChild2 > label').click()\n",
    "    else:\n",
    "        browser.find_element(By.CSS_SELECTOR, '#riskFactorNewForm\\:driverLimitationDiscountField > tbody > tr > td:nth-child(3) > label').click()\n",
    "    sleep(1)\n",
    "\n",
    "    #年齢\n",
    "    if data['年齢限定修正2'] == '全年齢補償':\n",
    "        browser.find_element(By.CSS_SELECTOR, '#riskFactorNewForm\\:ageLimitedDiscountField > tbody > tr > td.firstChild > label').click()\n",
    "    elif data['年齢限定修正2'] == '21歳以上補償':\n",
    "        browser.find_element(By.CSS_SELECTOR, '#riskFactorNewForm\\:ageLimitedDiscountField > tbody > tr > td.nthChild2n.nthChild2 > label').click()\n",
    "    elif data['年齢限定修正2'] == '26歳以上補償':\n",
    "        browser.find_element(By.CSS_SELECTOR, '#riskFactorNewForm\\:ageLimitedDiscountField > tbody > tr > td:nth-child(3) > label').click()\n",
    "    else:\n",
    "        browser.find_element(By.CSS_SELECTOR, '#riskFactorNewForm\\:ageLimitedDiscountField > tbody > tr > td:nth-child(4) > label').click()\n",
    "    sleep(1)\n",
    "\n",
    "    #セカンドカー有りの場合、他の保険会社\n",
    "    if len(browser.find_elements(By.CSS_SELECTOR,'#riskFactorNewForm\\:insuranceCompanyCodeField'))>0:\n",
    "        Select(browser.find_element(By.CSS_SELECTOR,'#riskFactorNewForm\\:insuranceCompanyCodeField')).select_by_index(1)\n",
    "else:\n",
    "    pass\n",
    "\n",
    "#何で知ったか\n",
    "browser.find_element(By.CSS_SELECTOR, '#riskFactor'+ new + 'Form\\:mediaField > tbody > tr > td.nthChild3.nthChild3n > label').click()\n",
    "sleep(1)\n",
    "\n",
    "#次へ\n",
    "browser.find_element(By.CSS_SELECTOR, '#riskFactor'+ new + 'Form\\:button > img').click()\n",
    "sleep(1)\n",
    "\n",
    "#はい\n",
    "browser.find_element(By.CSS_SELECTOR, '#riskFactor'+ new + 'Form\\:yes_button').click()\n",
    "\n"
   ]
  },
  {
   "cell_type": "code",
   "execution_count": 11,
   "metadata": {},
   "outputs": [],
   "source": [
    "#ログイン画面に移動\n",
    "browser.find_element(By.CSS_SELECTOR, '#loginLinkBlock > p > a').click()"
   ]
  },
  {
   "cell_type": "code",
   "execution_count": 12,
   "metadata": {},
   "outputs": [],
   "source": [
    "#IDでログイン\n",
    "browser.find_element(By.CSS_SELECTOR, '#login-id_panel > span').click()"
   ]
  },
  {
   "cell_type": "code",
   "execution_count": 13,
   "metadata": {},
   "outputs": [],
   "source": [
    "#IDとPWを入力\n",
    "browser.find_element(By.CSS_SELECTOR, '#login_id').send_keys(USER_ID)\n",
    "browser.find_element(By.CSS_SELECTOR, '#password').send_keys(USER_PW)\n",
    "\n",
    "#ログイン\n",
    "browser.find_element(By.CSS_SELECTOR, '#login-id > div.str-container > div > form > p.mod-form-btn-bext').click()"
   ]
  },
  {
   "cell_type": "code",
   "execution_count": 14,
   "metadata": {},
   "outputs": [],
   "source": [
    "\n",
    "browser.execute_script(\"window.scrollTo(0, 10000)\")#下までスクロールしないとエラーが起きがち？\n",
    "sleep(2)\n",
    "\n",
    "#次へ なぜかXPATHで指定しないと上手く押せない\n",
    "browser.find_element(By.XPATH, '/html/body/main/div[2]/form/ul/li[1]').click()\n"
   ]
  },
  {
   "cell_type": "code",
   "execution_count": 15,
   "metadata": {},
   "outputs": [],
   "source": [
    "#browser.execute_script(\"window.scrollTo(0, 10000)\")#下までスクロールしないとエラーが起きがち？\n",
    "\n",
    "sleep(1)\n",
    "#次へすすむ\n",
    "browser.find_element(By.CSS_SELECTOR, 'body > div.str_main > div.str_main_inner > form > ul > li._button').click()"
   ]
  },
  {
   "cell_type": "code",
   "execution_count": 16,
   "metadata": {},
   "outputs": [
    {
     "data": {
      "text/plain": [
       "'17,220'"
      ]
     },
     "execution_count": 16,
     "metadata": {},
     "output_type": "execute_result"
    }
   ],
   "source": [
    "##結果画面\n",
    "\n",
    "sleep(1)\n",
    "browser.find_element(By.CSS_SELECTOR, '#calculatePremiumForm\\:quotePremium1_top').text\n",
    "\n",
    "browser.find_element(By.CSS_SELECTOR, '#calculatePremiumForm\\:planComment2').click()\n",
    "\n",
    "Select(browser.find_element(By.CSS_SELECTOR,'#calculatePremiumForm\\:ownDamageOption_plan2')).select_by_visible_text('なし')\n",
    "\n",
    "#保険料再計算\n",
    "try:\n",
    "    browser.find_element(By.CSS_SELECTOR, '#calculatePremiumForm\\:recalculateBtn2_top > span > img').click()\n",
    "except:\n",
    "    pass\n",
    "\n",
    "sleep(2)\n",
    "\n",
    "browser.find_element(By.CSS_SELECTOR, '#calculatePremiumForm\\:quotePremium2_top').text"
   ]
  }
 ],
 "metadata": {
  "kernelspec": {
   "display_name": "Python 3 (ipykernel)",
   "language": "python",
   "name": "python3"
  },
  "language_info": {
   "codemirror_mode": {
    "name": "ipython",
    "version": 3
   },
   "file_extension": ".py",
   "mimetype": "text/x-python",
   "name": "python",
   "nbconvert_exporter": "python",
   "pygments_lexer": "ipython3",
   "version": "3.8.13"
  },
  "vscode": {
   "interpreter": {
    "hash": "8c12aa33cd1f988b85bff69616fc7faa9a7626773dafce861450a12433c9bed8"
   }
  }
 },
 "nbformat": 4,
 "nbformat_minor": 4
}
