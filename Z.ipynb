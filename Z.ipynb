{
 "cells": [
  {
   "cell_type": "code",
   "execution_count": 1,
   "metadata": {},
   "outputs": [],
   "source": [
    "import Z_func as Z\n",
    "from tqdm import tqdm\n",
    "from time import sleep\n",
    "\n",
    "import pandas as pd\n",
    "import openpyxl as xl\n",
    "\n",
    "import os\n",
    "import sys\n",
    "import random\n",
    "import subprocess\n"
   ]
  },
  {
   "cell_type": "code",
   "execution_count": 2,
   "metadata": {},
   "outputs": [
    {
     "name": "stderr",
     "output_type": "stream",
     "text": [
      "From https://github.com/s-shohin/Z\n",
      " * branch            main       -> FETCH_HEAD\n"
     ]
    },
    {
     "name": "stdout",
     "output_type": "stream",
     "text": [
      "HEAD is now at 8e9052f hoge\n"
     ]
    },
    {
     "name": "stderr",
     "output_type": "stream",
     "text": [
      "/Users/s87gawa/miniforge3/envs/py38/lib/python3.8/site-packages/openpyxl/worksheet/_reader.py:312: UserWarning: Data Validation extension is not supported and will be removed\n",
      "  warn(msg)\n"
     ]
    },
    {
     "name": "stdout",
     "output_type": "stream",
     "text": [
      "[2, 3, 4, 5, 6, 7, 8, 9, 10, 11, 12, 13, 14, 15, 16, 17, 18, 19, 20, 21, 22, 23, 24, 25, 26, 27, 28, 29, 30, 31, 32, 33, 34, 35, 36, 37, 38, 39, 40, 41, 42, 43, 44, 45, 46, 47, 48, 49, 50, 51, 52, 53, 54, 55, 56, 57, 58, 59, 60, 61, 62, 63, 64, 65, 66, 67, 68, 69, 70, 71, 72, 73, 74, 75, 76, 77, 78, 79, 80, 81, 82, 83, 84, 85, 86, 87, 88, 89, 90, 91, 92, 93, 94, 95, 96, 97, 98, 99, 100, 101, 102, 103, 104, 105, 106, 107, 108, 109, 110, 111, 112, 113, 114, 115, 116, 117, 118, 119, 120, 121, 122, 123, 124, 125, 126, 127, 128, 129, 130, 131, 132, 133, 134, 135, 136, 137, 138, 139, 140, 141, 142, 143, 144, 145, 146, 147, 148, 149, 150, 151, 152, 153, 154, 155, 156, 157, 158, 159, 160, 161, 162, 163, 164, 165, 166, 167, 168]\n",
      "[main 406a08d] \"hoge\"\n",
      " 1 file changed, 0 insertions(+), 0 deletions(-)\n"
     ]
    },
    {
     "name": "stderr",
     "output_type": "stream",
     "text": [
      "To https://github.com/s-shohin/Z\n",
      "   8e9052f..406a08d  main -> main\n",
      "  1%|          | 2/167 [00:53<1:04:56, 23.61s/it]"
     ]
    }
   ],
   "source": [
    "FILE_NAME=input('ファイル名を入力（拡張子.xlsmは除く）')\n",
    "SHEET_NAME='Z打鍵'\n",
    "BASE_BAT_SIZE=2 #バッチサイズ。一度の打鍵件数\n",
    "\n",
    "#githubから最新版をダウンロードする。強制的に上書き\n",
    "try:#ダウンロードする際、競合してUnlink *** try?y/n みたいなメッセージで止まるので、いったん削除して回避。\n",
    "    os.remove(FILE_NAME+'.xlsm')\n",
    "except OSError:\n",
    "    pass\n",
    "subprocess.run(['git', 'fetch', 'origin', 'main'])\n",
    "subprocess.run(['git', 'reset', '--hard', 'origin/main'])\n",
    "\n",
    "#読み込み\n",
    "wb=xl.load_workbook(FILE_NAME+'.xlsm',keep_vba=True)    \n",
    "df=pd.read_excel(FILE_NAME+'.xlsm',sheet_name=SHEET_NAME)\n",
    "\n",
    "#列を追加\n",
    "df['車両AMTエラー']=''\n",
    "df['新車保険金額エラー']=''\n",
    "\n",
    "ws=wb[SHEET_NAME]\n",
    "ws.cell(row=1, column=78).value = '車両AMTエラー'\n",
    "ws.cell(row=1, column=79).value = '新車保険金額エラー'\n",
    "\n",
    "#打鍵する行のリストの箱を用意\n",
    "calc_row=list(range(1))\n",
    "\n",
    "#打鍵、バッチ単位のループ\n",
    "while len(calc_row) > 0:\n",
    "    try:\n",
    "        #打鍵する行を特定\n",
    "        calc_row=list()\n",
    "        #数値のはいっていない行のうち、バッチサイズの行だけExcel上の行番号を取得（dfのindex+2）する。\n",
    "        BAT_SIZE=BASE_BAT_SIZE + random.randint(0, BASE_BAT_SIZE) #並列処理時にデータファイルアクセスのタイミングをずらすために乱数を加算\n",
    "        calc_row=list(df[(df['車有P'] == 'E') | (df['車有P'].isna())].index[0:BAT_SIZE]+2)\n",
    "        print(calc_row)\n",
    "\n",
    "        #打鍵を始める行に打鍵中と入力\n",
    "        for j in calc_row:\n",
    "            ws.cell(row=j, column=73).value = '打鍵中' \n",
    "            df.iloc[j-2,73-1]='打鍵中'\n",
    "        wb.save(FILE_NAME+'.xlsm')#いったん保存\n",
    "\n",
    "        #打鍵中と入力したファイルをアップロード\n",
    "        subprocess.run(['git', 'add', FILE_NAME+'.xlsm'])\n",
    "        subprocess.run(['git', 'commit', '-m','\"hoge\"'])\n",
    "        subprocess.run(['git','push','-f','origin','main'])#競合しても上書き　-fオプションを付ける\n",
    "\n",
    "        #####打鍵、行単位のループ#####################################  \n",
    "        for i in tqdm(calc_row):\n",
    "            data=df.loc[i-2,:].to_dict()\n",
    "            data = Z.Z_func(data)#打鍵\n",
    "\n",
    "            #結果をdfに書き込む\n",
    "            df_temp=pd.DataFrame.from_dict(data, orient='index').T\n",
    "            df.loc[i-2,:] = df_temp.iloc[0,:]\n",
    "        #####行単位のループ終了######################################\n",
    "\n",
    "        ########並列で実行するため、あらためて現時点の最新版のファイルを読み出して結果を追加\n",
    "        try:#ダウンロードする際、競合してUnlink *** try?y/n みたいなメッセージで止まるので、いったん削除して回避。\n",
    "            os.remove(FILE_NAME+'.xlsm')\n",
    "        except OSError:\n",
    "            pass\n",
    "        subprocess.run(['git', 'fetch', 'origin', 'main'])\n",
    "        subprocess.run(['git', 'reset', '--hard', 'origin/main'])\n",
    "        wb=xl.load_workbook(FILE_NAME+'.xlsm',keep_vba=True)\n",
    "    \n",
    "        ws=wb[SHEET_NAME]\n",
    "        for i in calc_row:\n",
    "            ws.cell(row=i, column=78).value = df.loc[i-2,'車両AMTエラー']\n",
    "            ws.cell(row=i, column=79).value = df.loc[i-2,'新車保険金額エラー']\n",
    "\n",
    "        if sum((df['車有P'] == 'E')*1) == BAT_SIZE:\n",
    "            print('1時間停止中')\n",
    "            sleep(3600)#すべてE、エラーだったら、たぶんHPメンテ中と判断して、1時間停止\n",
    "\n",
    "        #いったん保存\n",
    "        wb.save(FILE_NAME+'.xlsm')\n",
    "        #dfを更新\n",
    "        df=pd.read_excel(FILE_NAME+'.xlsm',sheet_name=SHEET_NAME)\n",
    "\n",
    "    except:#なにかでとまったら10秒まって次へいく。\n",
    "        sleep(10)\n",
    "        pass\n",
    "\n",
    "#バッチ単位のループ終了########################################\n",
    "\n",
    "    "
   ]
  }
 ],
 "metadata": {
  "kernelspec": {
   "display_name": "Python 3.8.13 ('py38')",
   "language": "python",
   "name": "python3"
  },
  "language_info": {
   "codemirror_mode": {
    "name": "ipython",
    "version": 3
   },
   "file_extension": ".py",
   "mimetype": "text/x-python",
   "name": "python",
   "nbconvert_exporter": "python",
   "pygments_lexer": "ipython3",
   "version": "3.8.13"
  },
  "orig_nbformat": 4,
  "vscode": {
   "interpreter": {
    "hash": "8c12aa33cd1f988b85bff69616fc7faa9a7626773dafce861450a12433c9bed8"
   }
  }
 },
 "nbformat": 4,
 "nbformat_minor": 2
}
