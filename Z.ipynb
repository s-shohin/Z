{
 "cells": [
  {
   "cell_type": "code",
   "execution_count": 1,
   "metadata": {},
   "outputs": [],
   "source": [
    "import Z_func as Z\n",
    "from tqdm import tqdm\n",
    "from time import sleep\n",
    "\n",
    "import pandas as pd\n",
    "import openpyxl as xl\n",
    "\n",
    "import os\n",
    "import sys\n",
    "import random\n",
    "import subprocess\n"
   ]
  },
  {
   "cell_type": "code",
   "execution_count": 2,
   "metadata": {},
   "outputs": [
    {
     "name": "stderr",
     "output_type": "stream",
     "text": [
      "From https://github.com/s-shohin/Z\n",
      " * branch            main       -> FETCH_HEAD\n"
     ]
    },
    {
     "name": "stdout",
     "output_type": "stream",
     "text": [
      "HEAD is now at 556d0e3 hoge\n",
      "[69, 70, 71, 72, 73, 74, 75, 76, 77, 78, 79, 80, 81, 82]\n",
      "[main a6fef72] hoge\n",
      " 1 file changed, 0 insertions(+), 0 deletions(-)\n"
     ]
    },
    {
     "name": "stderr",
     "output_type": "stream",
     "text": [
      "To https://github.com/s-shohin/Z\n",
      "   556d0e3..a6fef72  main -> main\n",
      "  0%|          | 0/14 [01:24<?, ?it/s]\n"
     ]
    },
    {
     "ename": "ValueError",
     "evalue": "The truth value of a Series is ambiguous. Use a.empty, a.bool(), a.item(), a.any() or a.all().",
     "output_type": "error",
     "traceback": [
      "\u001b[0;31m---------------------------------------------------------------------------\u001b[0m",
      "\u001b[0;31mValueError\u001b[0m                                Traceback (most recent call last)",
      "\u001b[1;32mセル2 を /Users/s87gawa/Library/CloudStorage/GoogleDrive-saison.shohin@gmail.com/マイドライブ/Z/Z.ipynb\u001b[0m in \u001b[0;36m<cell line: 30>\u001b[0;34m()\u001b[0m\n\u001b[1;32m     <a href='vscode-notebook-cell:/Users/s87gawa/Library/CloudStorage/GoogleDrive-saison.shohin%40gmail.com/%E3%83%9E%E3%82%A4%E3%83%89%E3%83%A9%E3%82%A4%E3%83%96/Z/Z.ipynb#W1sZmlsZQ%3D%3D?line=55'>56</a>\u001b[0m     df_temp\u001b[39m=\u001b[39mpd\u001b[39m.\u001b[39mDataFrame\u001b[39m.\u001b[39mfrom_dict(data, orient\u001b[39m=\u001b[39m\u001b[39m'\u001b[39m\u001b[39mindex\u001b[39m\u001b[39m'\u001b[39m)\u001b[39m.\u001b[39mT\n\u001b[1;32m     <a href='vscode-notebook-cell:/Users/s87gawa/Library/CloudStorage/GoogleDrive-saison.shohin%40gmail.com/%E3%83%9E%E3%82%A4%E3%83%89%E3%83%A9%E3%82%A4%E3%83%96/Z/Z.ipynb#W1sZmlsZQ%3D%3D?line=56'>57</a>\u001b[0m     df\u001b[39m.\u001b[39mloc[i\u001b[39m-\u001b[39m\u001b[39m2\u001b[39m,:] \u001b[39m=\u001b[39m df_temp\u001b[39m.\u001b[39miloc[\u001b[39m0\u001b[39m,:]\n\u001b[0;32m---> <a href='vscode-notebook-cell:/Users/s87gawa/Library/CloudStorage/GoogleDrive-saison.shohin%40gmail.com/%E3%83%9E%E3%82%A4%E3%83%89%E3%83%A9%E3%82%A4%E3%83%96/Z/Z.ipynb#W1sZmlsZQ%3D%3D?line=57'>58</a>\u001b[0m     \u001b[39mif\u001b[39;00m df_temp[\u001b[39m'\u001b[39m\u001b[39m車有P\u001b[39m\u001b[39m'\u001b[39m] \u001b[39m==\u001b[39m \u001b[39m'\u001b[39m\u001b[39mE\u001b[39m\u001b[39m'\u001b[39m:\n\u001b[1;32m     <a href='vscode-notebook-cell:/Users/s87gawa/Library/CloudStorage/GoogleDrive-saison.shohin%40gmail.com/%E3%83%9E%E3%82%A4%E3%83%89%E3%83%A9%E3%82%A4%E3%83%96/Z/Z.ipynb#W1sZmlsZQ%3D%3D?line=58'>59</a>\u001b[0m         error_count\u001b[39m=\u001b[39merror_count\u001b[39m+\u001b[39m\u001b[39m1\u001b[39m\n\u001b[1;32m     <a href='vscode-notebook-cell:/Users/s87gawa/Library/CloudStorage/GoogleDrive-saison.shohin%40gmail.com/%E3%83%9E%E3%82%A4%E3%83%89%E3%83%A9%E3%82%A4%E3%83%96/Z/Z.ipynb#W1sZmlsZQ%3D%3D?line=59'>60</a>\u001b[0m \u001b[39m#####行単位のループ終了######################################\u001b[39;00m\n",
      "File \u001b[0;32m~/miniforge3/envs/py38/lib/python3.8/site-packages/pandas/core/generic.py:1527\u001b[0m, in \u001b[0;36mNDFrame.__nonzero__\u001b[0;34m(self)\u001b[0m\n\u001b[1;32m   1525\u001b[0m \u001b[39m@final\u001b[39m\n\u001b[1;32m   1526\u001b[0m \u001b[39mdef\u001b[39;00m \u001b[39m__nonzero__\u001b[39m(\u001b[39mself\u001b[39m):\n\u001b[0;32m-> 1527\u001b[0m     \u001b[39mraise\u001b[39;00m \u001b[39mValueError\u001b[39;00m(\n\u001b[1;32m   1528\u001b[0m         \u001b[39mf\u001b[39m\u001b[39m\"\u001b[39m\u001b[39mThe truth value of a \u001b[39m\u001b[39m{\u001b[39;00m\u001b[39mtype\u001b[39m(\u001b[39mself\u001b[39m)\u001b[39m.\u001b[39m\u001b[39m__name__\u001b[39m\u001b[39m}\u001b[39;00m\u001b[39m is ambiguous. \u001b[39m\u001b[39m\"\u001b[39m\n\u001b[1;32m   1529\u001b[0m         \u001b[39m\"\u001b[39m\u001b[39mUse a.empty, a.bool(), a.item(), a.any() or a.all().\u001b[39m\u001b[39m\"\u001b[39m\n\u001b[1;32m   1530\u001b[0m     )\n",
      "\u001b[0;31mValueError\u001b[0m: The truth value of a Series is ambiguous. Use a.empty, a.bool(), a.item(), a.any() or a.all()."
     ]
    }
   ],
   "source": [
    "FILE_NAME=input('ファイル名を入力（拡張子.xlsmは除く）')\n",
    "SHEET_NAME='Z打鍵'\n",
    "BASE_BAT_SIZE=input('バッチサイズを入力（自然数）') #バッチサイズ。一度の打鍵件数\n",
    "error_count = 0 #1バッチあたりのエラー回数。初期化。\n",
    "\n",
    "#githubから最新版をダウンロードする。強制的に上書き\n",
    "try:#ダウンロードする際、競合してUnlink *** try?y/n みたいなメッセージで止まるので、いったん削除して回避。\n",
    "    os.remove(FILE_NAME+'.xlsm')\n",
    "except OSError:\n",
    "    pass\n",
    "subprocess.run(['git', 'fetch', 'origin', 'main'])\n",
    "subprocess.run(['git', 'reset', '--hard', 'origin/main'])\n",
    "\n",
    "#読み込み\n",
    "wb=xl.load_workbook(FILE_NAME+'.xlsm',keep_vba=True)    \n",
    "df=pd.read_excel(FILE_NAME+'.xlsm',sheet_name=SHEET_NAME)\n",
    "\n",
    "#列を追加\n",
    "df['車両AMTエラー']=''\n",
    "df['新車保険金額エラー']=''\n",
    "\n",
    "ws=wb[SHEET_NAME]\n",
    "ws.cell(row=1, column=78).value = '車両AMTエラー'\n",
    "ws.cell(row=1, column=79).value = '新車保険金額エラー'\n",
    "\n",
    "#打鍵する行のリストの箱を用意\n",
    "calc_row=list(range(1))\n",
    "\n",
    "#打鍵、バッチ単位のループ\n",
    "while len(calc_row) > 0:\n",
    "\n",
    "    #打鍵する行を特定\n",
    "    calc_row=list()\n",
    "    #数値のはいっていない行のうち、バッチサイズの行だけExcel上の行番号を取得（dfのindex+2）する。\n",
    "    BAT_SIZE=int(BASE_BAT_SIZE) + random.randint(0, int(BASE_BAT_SIZE)) #並列処理時にデータファイルアクセスのタイミングをずらすために乱数を加算\n",
    "    calc_row=list(df[df['車有P'].isna()].index[0:BAT_SIZE]+2)\n",
    "    print(calc_row)\n",
    "\n",
    "    #打鍵を始める行に打鍵中と入力\n",
    "    for j in calc_row:\n",
    "        ws.cell(row=j, column=73).value = '打鍵中' \n",
    "        df.iloc[j-2,73-1]='打鍵中'\n",
    "    wb.save(FILE_NAME+'.xlsm')#いったん保存\n",
    "\n",
    "    #打鍵中と入力したファイルをアップロード\n",
    "    subprocess.run(['git', 'add', FILE_NAME+'.xlsm'])\n",
    "    subprocess.run(['git', 'commit', '-m','hoge'])\n",
    "    subprocess.run(['git','push','-f','origin','main'])#競合しても上書き　-fオプションを付ける\n",
    "\n",
    "    #####打鍵、行単位のループ#####################################  \n",
    "    for i in tqdm(calc_row):\n",
    "        data=df.loc[i-2,:].to_dict()\n",
    "        data = Z.Z_func(data)#打鍵\n",
    "\n",
    "        #結果をdfに書き込む\n",
    "        df_temp=pd.DataFrame.from_dict(data, orient='index').T\n",
    "        df.loc[i-2,:] = df_temp.iloc[0,:]\n",
    "        if df_temp['車有P'] == 0:\n",
    "            error_count=error_count+1\n",
    "    #####行単位のループ終了######################################\n",
    "\n",
    "    if error_count == BAT_SIZE:\n",
    "        print('1時間停止中')\n",
    "        sleep(3600)#すべてE、エラーだったら、たぶんHPメンテ中と判断して、1時間停止\n",
    "\n",
    "    ########並列で実行するため、あらためて現時点の最新版のファイルを読み出して結果を追加\n",
    "    try:#ダウンロードする際、競合してUnlink *** try?y/n みたいなメッセージで止まるので、いったん削除して回避。\n",
    "        os.remove(FILE_NAME+'.xlsm')\n",
    "    except OSError:\n",
    "        pass\n",
    "    subprocess.run(['git', 'fetch', 'origin', 'main'])\n",
    "    subprocess.run(['git', 'reset', '--hard', 'origin/main'])\n",
    "    wb=xl.load_workbook(FILE_NAME+'.xlsm',keep_vba=True)\n",
    "\n",
    "    ws=wb[SHEET_NAME]\n",
    "    for i in calc_row:\n",
    "        ws.cell(row=i, column=73).value = df.loc[i-2,'車有P'] \n",
    "        ws.cell(row=i, column=74).value = df.loc[i-2,'車無P']\n",
    "        ws.cell(row=i, column=75).value = df.loc[i-2,'イ割車有'] \n",
    "        ws.cell(row=i, column=76).value = df.loc[i-2,'イ割車無']\n",
    "        ws.cell(row=i, column=77).value = df.loc[i-2,'早割'] \n",
    "        ws.cell(row=i, column=78).value = df.loc[i-2,'車両AMTエラー']\n",
    "        ws.cell(row=i, column=79).value = df.loc[i-2,'新車保険金額エラー']\n",
    "\n",
    "    #いったん保存\n",
    "    wb.save(FILE_NAME+'.xlsm')\n",
    "    #dfを更新\n",
    "    df=pd.read_excel(FILE_NAME+'.xlsm',sheet_name=SHEET_NAME)\n",
    "\n",
    "#バッチ単位のループ終了########################################\n",
    "\n",
    "    "
   ]
  }
 ],
 "metadata": {
  "kernelspec": {
   "display_name": "Python 3.8.13 ('py38')",
   "language": "python",
   "name": "python3"
  },
  "language_info": {
   "codemirror_mode": {
    "name": "ipython",
    "version": 3
   },
   "file_extension": ".py",
   "mimetype": "text/x-python",
   "name": "python",
   "nbconvert_exporter": "python",
   "pygments_lexer": "ipython3",
   "version": "3.8.13"
  },
  "orig_nbformat": 4,
  "vscode": {
   "interpreter": {
    "hash": "8c12aa33cd1f988b85bff69616fc7faa9a7626773dafce861450a12433c9bed8"
   }
  }
 },
 "nbformat": 4,
 "nbformat_minor": 2
}
