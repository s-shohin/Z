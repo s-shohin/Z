{
 "cells": [
  {
   "cell_type": "code",
   "execution_count": 1,
   "metadata": {},
   "outputs": [],
   "source": [
    "import Z_func as Z\n",
    "from tqdm import tqdm\n",
    "from time import sleep\n",
    "\n",
    "import pandas as pd\n",
    "import openpyxl as xl\n",
    "\n",
    "import os\n",
    "import sys\n",
    "import random\n",
    "import subprocess\n"
   ]
  },
  {
   "cell_type": "code",
   "execution_count": 2,
   "metadata": {},
   "outputs": [
    {
     "name": "stderr",
     "output_type": "stream",
     "text": [
      "From https://github.com/s-shohin/Z\n",
      " * branch            main       -> FETCH_HEAD\n"
     ]
    },
    {
     "name": "stdout",
     "output_type": "stream",
     "text": [
      "HEAD is now at 2c308d5 \"hoge\"\n",
      "[8, 9, 10]\n",
      "[main 4fbf66c] \"hoge\"\n",
      " 1 file changed, 0 insertions(+), 0 deletions(-)\n"
     ]
    },
    {
     "name": "stderr",
     "output_type": "stream",
     "text": [
      "To https://github.com/s-shohin/Z\n",
      "   2c308d5..4fbf66c  main -> main\n",
      "100%|██████████| 3/3 [01:45<00:00, 35.08s/it]\n",
      "From https://github.com/s-shohin/Z\n",
      " * branch            main       -> FETCH_HEAD\n"
     ]
    },
    {
     "name": "stdout",
     "output_type": "stream",
     "text": [
      "HEAD is now at 4fbf66c \"hoge\"\n",
      "[11, 12, 13]\n",
      "[main 40c2ed0] \"hoge\"\n",
      " 1 file changed, 0 insertions(+), 0 deletions(-)\n"
     ]
    },
    {
     "name": "stderr",
     "output_type": "stream",
     "text": [
      "To https://github.com/s-shohin/Z\n",
      "   4fbf66c..40c2ed0  main -> main\n",
      "100%|██████████| 3/3 [01:52<00:00, 37.62s/it]\n",
      "From https://github.com/s-shohin/Z\n",
      " * branch            main       -> FETCH_HEAD\n"
     ]
    },
    {
     "name": "stdout",
     "output_type": "stream",
     "text": [
      "HEAD is now at 40c2ed0 \"hoge\"\n",
      "[14, 15, 16, 17]\n",
      "[main 4368ef8] \"hoge\"\n",
      " 1 file changed, 0 insertions(+), 0 deletions(-)\n"
     ]
    },
    {
     "name": "stderr",
     "output_type": "stream",
     "text": [
      "To https://github.com/s-shohin/Z\n",
      "   40c2ed0..4368ef8  main -> main\n",
      "100%|██████████| 4/4 [03:07<00:00, 46.93s/it]\n",
      "From https://github.com/s-shohin/Z\n",
      " * branch            main       -> FETCH_HEAD\n"
     ]
    },
    {
     "name": "stdout",
     "output_type": "stream",
     "text": [
      "HEAD is now at 4368ef8 \"hoge\"\n",
      "[18, 19, 20, 21]\n",
      "[main 102df27] \"hoge\"\n",
      " 1 file changed, 0 insertions(+), 0 deletions(-)\n"
     ]
    },
    {
     "name": "stderr",
     "output_type": "stream",
     "text": [
      "To https://github.com/s-shohin/Z\n",
      "   4368ef8..102df27  main -> main\n",
      "  0%|          | 0/4 [00:00<?, ?it/s]"
     ]
    }
   ],
   "source": [
    "FILE_NAME=input('ファイル名を入力（拡張子.xlsmは除く）')\n",
    "SHEET_NAME='Z打鍵'\n",
    "BASE_BAT_SIZE=5 #バッチサイズ。一度の打鍵件数\n",
    "\n",
    "#githubから最新版をダウンロードする。強制的に上書き\n",
    "try:#ダウンロードする際、競合してUnlink *** try?y/n みたいなメッセージで止まるので、いったん削除して回避。\n",
    "    os.remove(FILE_NAME+'.xlsm')\n",
    "except OSError:\n",
    "    pass\n",
    "subprocess.run(['git', 'fetch', 'origin', 'main'])\n",
    "subprocess.run(['git', 'reset', '--hard', 'origin/main'])\n",
    "\n",
    "#読み込み\n",
    "wb=xl.load_workbook(FILE_NAME+'.xlsm',keep_vba=True)    \n",
    "df=pd.read_excel(FILE_NAME+'.xlsm',sheet_name=SHEET_NAME)\n",
    "\n",
    "#列を追加\n",
    "df['車両AMTエラー']=''\n",
    "df['新車保険金額エラー']=''\n",
    "\n",
    "ws=wb[SHEET_NAME]\n",
    "ws.cell(row=1, column=78).value = '車両AMTエラー'\n",
    "ws.cell(row=1, column=79).value = '新車保険金額エラー'\n",
    "\n",
    "#打鍵する行のリストの箱を用意\n",
    "calc_row=list(range(1))\n",
    "\n",
    "#打鍵、バッチ単位のループ\n",
    "while len(calc_row) > 0:\n",
    "    try:\n",
    "        #打鍵する行を特定\n",
    "        calc_row=list()\n",
    "        #数値のはいっていない行のうち、バッチサイズの行だけExcel上の行番号を取得（dfのindex+2）する。\n",
    "        BAT_SIZE=BASE_BAT_SIZE + random.randint(0, BASE_BAT_SIZE) #並列処理時にデータファイルアクセスのタイミングをずらすために乱数を加算\n",
    "        calc_row=list(df[(df['車有P'] == 'E') | (df['車有P'].isna())].index[0:BAT_SIZE]+2)\n",
    "        print(calc_row)\n",
    "\n",
    "        #打鍵を始める行に打鍵中と入力\n",
    "        for j in calc_row:\n",
    "            ws.cell(row=j, column=73).value = '打鍵中' \n",
    "            df.iloc[j-2,73-1]='打鍵中'\n",
    "        wb.save(FILE_NAME+'.xlsm')#いったん保存\n",
    "\n",
    "        #打鍵中と入力したファイルをアップロード\n",
    "        subprocess.run(['git', 'add', FILE_NAME+'.xlsm'])\n",
    "        subprocess.run(['git', 'commit', '-m','hoge'])\n",
    "        subprocess.run(['git','push','-f','origin','main'])#競合しても上書き　-fオプションを付ける\n",
    "\n",
    "        #####打鍵、行単位のループ#####################################  \n",
    "        for i in tqdm(calc_row):\n",
    "            data=df.loc[i-2,:].to_dict()\n",
    "            data = Z.Z_func(data)#打鍵\n",
    "\n",
    "            #結果をdfに書き込む\n",
    "            df_temp=pd.DataFrame.from_dict(data, orient='index').T\n",
    "            df.loc[i-2,:] = df_temp.iloc[0,:]\n",
    "        #####行単位のループ終了######################################\n",
    "\n",
    "        ########並列で実行するため、あらためて現時点の最新版のファイルを読み出して結果を追加\n",
    "        try:#ダウンロードする際、競合してUnlink *** try?y/n みたいなメッセージで止まるので、いったん削除して回避。\n",
    "            os.remove(FILE_NAME+'.xlsm')\n",
    "        except OSError:\n",
    "            pass\n",
    "        subprocess.run(['git', 'fetch', 'origin', 'main'])\n",
    "        subprocess.run(['git', 'reset', '--hard', 'origin/main'])\n",
    "        wb=xl.load_workbook(FILE_NAME+'.xlsm',keep_vba=True)\n",
    "    \n",
    "        ws=wb[SHEET_NAME]\n",
    "        for i in calc_row:\n",
    "            ws.cell(row=i, column=73).value = df.loc[i-2,'車有P'] \n",
    "            ws.cell(row=i, column=74).value = df.loc[i-2,'車無P']\n",
    "            ws.cell(row=i, column=75).value = df.loc[i-2,'イ割車有'] \n",
    "            ws.cell(row=i, column=76).value = df.loc[i-2,'イ割車無']\n",
    "            ws.cell(row=i, column=77).value = df.loc[i-2,'早割'] \n",
    "            ws.cell(row=i, column=78).value = df.loc[i-2,'車両AMTエラー']\n",
    "            ws.cell(row=i, column=79).value = df.loc[i-2,'新車保険金額エラー']\n",
    "\n",
    "        if sum((df['車有P'] == 'E')*1) == BAT_SIZE:\n",
    "            print('1時間停止中')\n",
    "            sleep(3600)#すべてE、エラーだったら、たぶんHPメンテ中と判断して、1時間停止\n",
    "\n",
    "        #いったん保存\n",
    "        wb.save(FILE_NAME+'.xlsm')\n",
    "        #dfを更新\n",
    "        df=pd.read_excel(FILE_NAME+'.xlsm',sheet_name=SHEET_NAME)\n",
    "\n",
    "    except:#なにかでとまったら10秒まって次へいく。\n",
    "        sleep(10)\n",
    "        pass\n",
    "\n",
    "#バッチ単位のループ終了########################################\n",
    "\n",
    "    "
   ]
  }
 ],
 "metadata": {
  "kernelspec": {
   "display_name": "Python 3.8.13 ('py38')",
   "language": "python",
   "name": "python3"
  },
  "language_info": {
   "codemirror_mode": {
    "name": "ipython",
    "version": 3
   },
   "file_extension": ".py",
   "mimetype": "text/x-python",
   "name": "python",
   "nbconvert_exporter": "python",
   "pygments_lexer": "ipython3",
   "version": "3.8.13"
  },
  "orig_nbformat": 4,
  "vscode": {
   "interpreter": {
    "hash": "8c12aa33cd1f988b85bff69616fc7faa9a7626773dafce861450a12433c9bed8"
   }
  }
 },
 "nbformat": 4,
 "nbformat_minor": 2
}
